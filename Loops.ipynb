{
  "nbformat": 4,
  "nbformat_minor": 0,
  "metadata": {
    "colab": {
      "provenance": [],
      "authorship_tag": "ABX9TyPPXgKIzEkQQumed7dKjMY+",
      "include_colab_link": true
    },
    "kernelspec": {
      "name": "python3",
      "display_name": "Python 3"
    },
    "language_info": {
      "name": "python"
    }
  },
  "cells": [
    {
      "cell_type": "markdown",
      "metadata": {
        "id": "view-in-github",
        "colab_type": "text"
      },
      "source": [
        "<a href=\"https://colab.research.google.com/github/KamilahAfeez/Loops/blob/main/Loops.ipynb\" target=\"_parent\"><img src=\"https://colab.research.google.com/assets/colab-badge.svg\" alt=\"Open In Colab\"/></a>"
      ]
    },
    {
      "cell_type": "code",
      "execution_count": 1,
      "metadata": {
        "colab": {
          "base_uri": "https://localhost:8080/"
        },
        "id": "e65QSkTqNs75",
        "outputId": "00fd0b77-48c0-4988-b444-65b7c12b8658"
      },
      "outputs": [
        {
          "output_type": "stream",
          "name": "stdout",
          "text": [
            "Enter the number of whole numbers you want to find the sum for: 7\n",
            "\n",
            " Sum=  1\n",
            "\n",
            " Sum=  3\n",
            "\n",
            " Sum=  6\n",
            "\n",
            " Sum=  10\n",
            "\n",
            " Sum=  15\n",
            "\n",
            " Sum=  21\n",
            "\n",
            " Sum=  28\n"
          ]
        }
      ],
      "source": [
        "n=int(input(\"Enter the number of whole numbers you want to find the sum for: \"))\n",
        "\n",
        "sum=0\n",
        "\n",
        "for i in range(1,n+1):\n",
        "  sum=sum+i\n",
        "  print(\"\\n Sum= \",sum)"
      ]
    },
    {
      "cell_type": "code",
      "source": [
        "string=input(\"Enter a word to reverse: \")\n",
        "\n",
        "string2=('')\n",
        "\n",
        "for i in string:\n",
        "\n",
        "  string2=i+string2\n",
        "print(\"\\n The original word is: \",string)\n",
        "print(\"\\n The reversed word is: \",string2)"
      ],
      "metadata": {
        "colab": {
          "base_uri": "https://localhost:8080/"
        },
        "id": "xuohjMzcSSJY",
        "outputId": "63011e3e-3aae-4b46-c41e-b3e2fa838a3b"
      },
      "execution_count": 3,
      "outputs": [
        {
          "output_type": "stream",
          "name": "stdout",
          "text": [
            "Enter a word to reverse: Kamilah\n",
            "\n",
            " The original word is:  Kamilah\n",
            "\n",
            " The reversed word is:  halimaK\n"
          ]
        }
      ]
    }
  ]
}